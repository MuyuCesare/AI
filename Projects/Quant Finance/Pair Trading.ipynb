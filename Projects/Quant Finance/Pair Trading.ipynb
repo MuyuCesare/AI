{
 "cells": [
  {
   "cell_type": "code",
   "execution_count": null,
   "metadata": {},
   "outputs": [],
   "source": [
    "import pandas as pd\n",
    "import numpy as np\n",
    "import tushare as ts\n",
    "import seaborn\n",
    "%matplotlib inline\n",
    "from matplotlib import pyplot as plt\n",
    "stocks_pair = ['600199', '600702']\n",
    "\n",
    "data1 = ts.get_k_data('600199', '2013-06-01', '2014-12-31')[['date','close']]\n",
    "data2 = ts.get_k_data('600702', '2013-06-01', '2014-12-31')['close']\n",
    "data = pd.concat([data1, data2], axis=1)\n",
    "data.set_index('date',inplace = True)\n",
    "data.columns = stocks_pair\n",
    "data.plot(figsize= (8,6))\n",
    "\n",
    "#基于股票价格比率的配对交易\n",
    "data['pair_ratio'] =data[stocks_pair[0]]/data[stocks_pair[1]]\n",
    "mean = data['pair_ratio'].mean()\n",
    "std = data['pair_ratio'].std()\n",
    "data['ratio_mean'] = mean\n",
    "data['ratio_ceiling'] = mean + std\n",
    "data['ratio_floor'] = mean - std\n",
    "\n",
    "#基于股票价差协整关系的配对交易\n",
    "data.corr() #协方差矩阵\n",
    "plt.figure(figsize =(10,8))\n",
    "plt.title('Stock Correlation')\n",
    "plt.plot(data['600199'], data['600702'], '.') #两支股票的散点图\n",
    "plt.xlabel('600199')\n",
    "plt.ylabel('600702')\n",
    "data.dropna(inplace = True)\n",
    "[slope, intercept] = np.polyfit(data.iloc[:,0], data.iloc[:,1], 1).round(2) #两支股票回归并提取斜率和截距\n",
    "data['spread'] = data.iloc[:,1] - (data.iloc[:,0]*slope + intercept) #得到ε的序列\n",
    "data['spread'].plot(figsize = (10,8),title = 'Price Spread')\n",
    "data['zscore'] = (data['spread'] - data['spread'].mean())/data['spread'].std() #对ε标准化\n",
    "data['zscore'].plot(figsize = (10,8),title = 'Z-score')\n",
    "plt.axhline(1.5)\n",
    "plt.axhline(0)\n",
    "plt.axhline(-1.5)\n",
    "data[data['zscore'] < - 1.5].head()\n",
    "len(data[data['zscore'] < - 1.5])\n",
    "data['position_1'] = np.where(data['zscore'] > 1.5, 1, np.nan)\n",
    "data['position_1'] = np.where(data['zscore'] < -1.5, -1, data['position_1'])\n",
    "data['position_1'] = np.where(abs(data['zscore']) < 0.5, 0, data['position_1'])\n",
    "data['position_1'] = data['position_1'].fillna(method = 'ffill')\n",
    "data['position_1'].plot(ylim=[-1.1, 1.1], figsize=(10, 6), title = 'Trading Signal_Uptrade')\n",
    "data['position_2'] = -np.sign(data['position_1'])\n",
    "data['position_2'].plot(ylim=[-1.1, 1.1], figsize=(10, 6), title = 'Trading Signal_Downtrade')\n",
    "\n",
    "data['returns_1'] = np.log(data['600199'] / data['600199'].shift(1))\n",
    "data['returns_2'] = np.log(data['600702'] / data['600702'].shift(1))\n",
    "data['strategy'] = 0.5*(data['position_1'].shift(1) * data['returns_1'])+0.5*(data['position_2'].shift(1) * data['returns_2']) #假设等权重做多和做空，但实际上应该用Hedge Ratio进行做多和做空\n",
    "data[['returns_1','returns_2','strategy']].dropna().cumsum().apply(np.exp).plot(figsize=(10, 6), title = 'Strategy_Backtesting')"
   ]
  }
 ],
 "metadata": {
  "kernelspec": {
   "display_name": "NLP",
   "language": "python",
   "name": "nlp"
  },
  "language_info": {
   "codemirror_mode": {
    "name": "ipython",
    "version": 3
   },
   "file_extension": ".py",
   "mimetype": "text/x-python",
   "name": "python",
   "nbconvert_exporter": "python",
   "pygments_lexer": "ipython3",
   "version": "3.7.6"
  }
 },
 "nbformat": 4,
 "nbformat_minor": 2
}
