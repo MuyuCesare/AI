{
 "cells": [
  {
   "cell_type": "code",
   "execution_count": null,
   "metadata": {},
   "outputs": [],
   "source": [
    "# coding: utf-8\n",
    "from sklearn.cluster import KMeans\n",
    "from sklearn import preprocessing\n",
    "import pandas as pd\n",
    "import numpy as np\n",
    "\n",
    "# 数据加载\n",
    "data = pd.read_csv('Mall_Customers.csv', encoding='gbk')\n",
    "train_x = data[[\"Gender\",\"Age\",\"Annual Income (k$)\", \"Spending Score (1-100)\"]]\n",
    "\n",
    "# 对类别变量进行LabelEncoder\n",
    "from sklearn.preprocessing import LabelEncoder\n",
    "le = LabelEncoder()\n",
    "train_x['Gender'] = le.fit_transform(train_x['Gender'])\n",
    "\n",
    "# 规范化到 [0,1] 空间\n",
    "min_max_scaler=preprocessing.MinMaxScaler()\n",
    "train_x=min_max_scaler.fit_transform(train_x)\n",
    "pd.DataFrame(train_x).to_csv('temp.csv', index=False)\n",
    "#print(train_x)\n",
    "\n",
    "# 使用KMeans聚类\n",
    "kmeans = KMeans(n_clusters=3)\n",
    "kmeans.fit(train_x)\n",
    "predict_y = kmeans.predict(train_x)\n",
    "\n",
    "# 使用层次聚类\n",
    "model = AgglomerativeClustering(linkage='ward', n_clusters=3)\n",
    "y = model.fit_predict(train_x)\n",
    "print(y)\n",
    "\n",
    "#对层次聚类可视化\n",
    "linkage_matrix = ward(train_x)\n",
    "dendrogram(linkage_matrix)\n",
    "plt.show()\n",
    "\n",
    "# 合并KMeans聚类结果，插入到原数据中\n",
    "result = pd.concat((data,pd.DataFrame(predict_y)),axis=1)\n",
    "result.rename({0:u'聚类结果'},axis=1,inplace=True)\n",
    "print(result)\n",
    "\n",
    "# 将结果导出到CSV文件中\n",
    "result.to_csv(\"customer_cluster_result.csv\",index=False)"
   ]
  }
 ],
 "metadata": {
  "kernelspec": {
   "display_name": "Python 3",
   "language": "python",
   "name": "python3"
  },
  "language_info": {
   "codemirror_mode": {
    "name": "ipython",
    "version": 3
   },
   "file_extension": ".py",
   "mimetype": "text/x-python",
   "name": "python",
   "nbconvert_exporter": "python",
   "pygments_lexer": "ipython3",
   "version": "3.7.4"
  }
 },
 "nbformat": 4,
 "nbformat_minor": 2
}
