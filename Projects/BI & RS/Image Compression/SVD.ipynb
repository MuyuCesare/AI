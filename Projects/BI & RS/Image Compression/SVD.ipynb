{
 "cells": [
  {
   "cell_type": "code",
   "execution_count": null,
   "metadata": {},
   "outputs": [],
   "source": [
    "import numpy as np\n",
    "from scipy.linalg import svd\n",
    "from PIL import Image\n",
    "import matplotlib.pyplot as plt\n",
    "\n",
    "# 取前k个特征，对图像进行还原\n",
    "def get_image_feature(s, k):\n",
    "\t# 对于S，只保留前K个特征值\n",
    "\ts_temp = np.zeros(s.shape[0])\n",
    "\ts_temp[0:k] = s[0:k]\n",
    "\ts = s_temp * np.identity(s.shape[0]) #np.identity是生成对角矩阵\n",
    "\t# 用新的s_temp，以及p,q重构A\n",
    "\ttemp = np.dot(p,s)\n",
    "\ttemp = np.dot(temp,q)\n",
    "\tplt.imshow(temp, cmap=plt.cm.gray, interpolation='nearest')\n",
    "\tplt.show()\n",
    "\tprint(A-temp)\n",
    "\n",
    "# 加载256色图片\n",
    "image = Image.open('./256.bmp') \n",
    "A = np.array(image)\n",
    "# 显示原图像\n",
    "plt.imshow(A, cmap=plt.cm.gray, interpolation='nearest')\n",
    "plt.show()\n",
    "# 对图像矩阵A进行奇异值分解，得到p,s,q\n",
    "p,s,q = svd(A, full_matrices=False)\n",
    "# 取前k个特征，对图像进行还原\n",
    "get_image_feature(s, 5)\n",
    "get_image_feature(s, 50)\n",
    "get_image_feature(s, 500)"
   ]
  }
 ],
 "metadata": {
  "kernelspec": {
   "display_name": "NLP",
   "language": "python",
   "name": "nlp"
  },
  "language_info": {
   "codemirror_mode": {
    "name": "ipython",
    "version": 3
   },
   "file_extension": ".py",
   "mimetype": "text/x-python",
   "name": "python",
   "nbconvert_exporter": "python",
   "pygments_lexer": "ipython3",
   "version": "3.7.6"
  }
 },
 "nbformat": 4,
 "nbformat_minor": 2
}
