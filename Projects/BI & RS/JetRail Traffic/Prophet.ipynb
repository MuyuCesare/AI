{
 "cells": [
  {
   "cell_type": "code",
   "execution_count": null,
   "metadata": {},
   "outputs": [],
   "source": [
    "import pandas as pd\n",
    "\n",
    "#数据加载\n",
    "train=pd.read_csv('./train.csv')\n",
    "\n",
    "#将时间转换为pandas的datetime格式，并设置索引\n",
    "train['Datetime']=pd.to_datetime(train['Datetime'], format='%d-%m-%Y %H:%M')\n",
    "train.index=train['Datetime']\n",
    "\n",
    "#去掉ID和Datetime字段\n",
    "train.drop(['ID', 'Datetime'], axis=1, inplace=True)\n",
    "\n",
    "#按照天进行重采样\n",
    "daily_train=train.resample('D').sum()\n",
    "\n",
    "#将列转换为Prophet模型的输入样式\n",
    "daily_train['ds']=daily_train.index\n",
    "daily_train['y']=daily_train['Count']\n",
    "daily_train.drop(['Count'], axis=1, inplace=True)\n",
    "\n",
    "from fbprophet import Prophet\n",
    "m = Prophet(yearly_seasonality=True, seasonality_prior_scale=0.1)\n",
    "\n",
    "# 预测未来7个月，213天\n",
    "future = m.make_future_dataframe(periods=213)\n",
    "m.fit(daily_train)\n",
    "forecast=m.predict(future)\n",
    "\n",
    "m.plot(forecast)\n",
    "\n",
    "#查看各个components\n",
    "m.plot_components(forecast)\n"
   ]
  }
 ],
 "metadata": {
  "kernelspec": {
   "display_name": "Python 3",
   "language": "python",
   "name": "python3"
  },
  "language_info": {
   "codemirror_mode": {
    "name": "ipython",
    "version": 3
   },
   "file_extension": ".py",
   "mimetype": "text/x-python",
   "name": "python",
   "nbconvert_exporter": "python",
   "pygments_lexer": "ipython3",
   "version": "3.7.4"
  }
 },
 "nbformat": 4,
 "nbformat_minor": 2
}
