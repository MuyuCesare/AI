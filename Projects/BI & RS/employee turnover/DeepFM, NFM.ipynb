{
 "cells": [
  {
   "cell_type": "code",
   "execution_count": null,
   "metadata": {},
   "outputs": [],
   "source": [
    "from deepctr.models import NFM\n",
    "\n",
    "sparse_features = cate\n",
    "# 除了分类特征以外，其余都是稠密类型\n",
    "dense_features = list(set([i if i not in cate else '' for i in train.drop('Attrition', axis=1).columns]))\n",
    "dense_features.remove('')\n",
    "# 处理缺失值\n",
    "train[sparse_features] = train[sparse_features].fillna('-1', )\n",
    "train[dense_features] = train[dense_features].fillna(0, )\n",
    "# 对离散特征进行标签编码\n",
    "target = ['Attrition']\n",
    "for feat in sparse_features:\n",
    "    lbe = LabelEncoder()\n",
    "    data[feat] = lbe.fit_transform(data[feat])\n",
    "print(data)\n",
    "\n",
    "# 对数据进行0-1规范化\n",
    "mms = MinMaxScaler(feature_range=(0, 1))\n",
    "train[dense_features] = mms.fit_transform(train[dense_features])\n",
    "test[dense_features] = mms.fit_transform(test[dense_features])\n",
    "# 处理定长离散特征\n",
    "fixlen_feature_columns = [SparseFeat(feat, data[feat].nunique()) for feat in sparse_features] + [DenseFeat(feat, 1,) for feat in dense_features]\n",
    "dnn_feature_columns = fixlen_feature_columns\n",
    "linear_feature_columns = fixlen_feature_columns\n",
    "print(fixlen_feature_columns)\n",
    "\n",
    "# 得到所有特征名称\n",
    "feature_names = get_feature_names(linear_feature_columns + dnn_feature_columns)\n",
    "train_model_input = {name:train[name] for name in feature_names}\n",
    "model = DeepFM(linear_feature_columns, dnn_feature_columns, task='binary')\n",
    "#model = NFM(linear_feature_columns, dnn_feature_columns, task='binary')\n",
    "model.compile(\"adam\", \"binary_crossentropy\", metrics=['binary_crossentropy'], )\n",
    "history = model.fit(train_model_input, train[target].values, batch_size=256, epochs=50, verbose=2, validation_split=0.2, )\n",
    "\n",
    "# 对测试集进行预测\n",
    "test_model_input = {name:test[name] for name in feature_names}\n",
    "predict = model.predict(test_model_input, batch_size=256)\n",
    "# 转化为二分类输出\n",
    "test1['Attrition'] = predict\n",
    "test1['Attrition']=test1['Attrition'].map(lambda x:1 if x>=0.5 else 0)\n",
    "# 使用user_id作为索引\n",
    "test1.set_index([\"user_id\"], inplace=True)\n",
    "test1[['Attrition']].to_csv('submit.csv')"
   ]
  }
 ],
 "metadata": {
  "kernelspec": {
   "display_name": "NLP",
   "language": "python",
   "name": "nlp"
  },
  "language_info": {
   "codemirror_mode": {
    "name": "ipython",
    "version": 3
   },
   "file_extension": ".py",
   "mimetype": "text/x-python",
   "name": "python",
   "nbconvert_exporter": "python",
   "pygments_lexer": "ipython3",
   "version": "3.7.6"
  }
 },
 "nbformat": 4,
 "nbformat_minor": 2
}
