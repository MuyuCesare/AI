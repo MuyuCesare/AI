{
 "cells": [
  {
   "cell_type": "code",
   "execution_count": null,
   "metadata": {},
   "outputs": [],
   "source": [
    "# 天猫用户复购预测(XGBoost使用示意)\n",
    "X_train, X_valid, y_train, y_valid = train_test_split(train_X, train_y, test_size=.2)\n",
    "# 使用XGBoost\n",
    "model = xgb.XGBClassifier(\n",
    "    max_depth=8, #树的最大深度\n",
    "    n_estimators=1000, #提升迭代的次数，也就是生成多少基模型\n",
    "    min_child_weight=300, #一个子集的所有观察值的最小权重和\n",
    "    colsample_bytree=0.8, #列采样率，也就是特征采样率\n",
    "    subsample=0.8, #构建每棵树对样本的采样率\n",
    "    eta=0.3,    # eta通过缩减特征的权重使提升计算过程更加保守，防止过拟合\n",
    "    seed=42    #随机数种子\n",
    ")\n",
    "\n",
    "model.fit(\n",
    "    X_train, y_train,\n",
    "    eval_metric='auc', eval_set=[(X_train, y_train), (X_valid, y_valid)],\n",
    "    verbose=True,\n",
    "    #早停法，如果auc在10epoch没有进步就stop\n",
    "    early_stopping_rounds=10 \n",
    ")\n",
    "\n",
    "model.fit(X_train, y_train)\n",
    "prob = model.predict_proba(test_data)\n",
    "\n",
    "param = {'boosting_type':'gbdt',\n",
    "                         'objective' : 'binary:logistic', #任务目标\n",
    "                         'eval_metric' : 'auc', #评估指标\n",
    "                         'eta' : 0.01, #学习率\n",
    "                         'max_depth' : 15, #树最大深度\n",
    "                         'colsample_bytree':0.8, #设置在每次迭代中使用特征的比例\n",
    "                         'subsample': 0.9, #样本采样比例\n",
    "                         'subsample_freq': 8, #bagging的次数\n",
    "                         'alpha': 0.6, #L1正则\n",
    "                         'lambda': 0, #L2正则\n",
    "        }\n",
    "\n",
    "X_train, X_valid, y_train, y_valid = train_test_split(train.drop('Attrition',axis=1), train['Attrition'], test_size=0.2, random_state=42)\n",
    "train_data = xgb.DMatrix(X_train, label=y_train)\n",
    "valid_data = xgb.DMatrix(X_valid, label=y_valid)\n",
    "test_data = xgb.DMatrix(test)\n",
    "model = xgb.train(param, train_data, evals=[(train_data, 'train'), (valid_data, 'valid')], num_boost_round = 10000, early_stopping_rounds=200, verbose_eval=25)\n",
    "predict = model.predict(test_data)\n",
    "test['Attrition']=predict\n",
    "# 转化为二分类输出\n",
    "test['Attrition']=test['Attrition'].map(lambda x:1 if x>=0.5 else 0)\n",
    "test[['Attrition']].to_csv('submit_lgb.csv')"
   ]
  }
 ],
 "metadata": {
  "kernelspec": {
   "display_name": "NLP",
   "language": "python",
   "name": "nlp"
  },
  "language_info": {
   "codemirror_mode": {
    "name": "ipython",
    "version": 3
   },
   "file_extension": ".py",
   "mimetype": "text/x-python",
   "name": "python",
   "nbconvert_exporter": "python",
   "pygments_lexer": "ipython3",
   "version": "3.7.6"
  }
 },
 "nbformat": 4,
 "nbformat_minor": 2
}
