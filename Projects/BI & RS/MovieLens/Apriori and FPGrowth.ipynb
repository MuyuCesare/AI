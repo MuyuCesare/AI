{
 "cells": [
  {
   "cell_type": "code",
   "execution_count": null,
   "metadata": {},
   "outputs": [],
   "source": [
    "'''\n",
    "Using Apriori and FPGrowth mine the frequent itemsets and association rules of movie categories \n",
    "and movie actors from the MovieLens data set\n",
    "'''\n",
    "\n",
    "# 分析MovieLens 电影分类中的频繁项集和关联规则\n",
    "import pandas as pd\n",
    "from mlxtend.frequent_patterns import apriori\n",
    "from mlxtend.frequent_patterns import association_rules\n",
    "\n",
    "# 数据加载\n",
    "movies = pd.read_csv('./movies.csv')\n",
    "#print(movies.head())\n",
    "\n",
    "# 将genres进行one-hot编码（离散特征有多少取值，就用多少维来表示这个特征）\n",
    "print(movies['genres'])\n",
    "movies_hot_encoded = movies.drop('genres',1).join(movies.genres.str.get_dummies(sep='|'))\n",
    "print(movies_hot_encoded)\n",
    "\n",
    "pd.options.display.max_columns=100\n",
    "print(movies_hot_encoded.head())\n",
    "\n",
    "# 将movieId, title设置为index\n",
    "movies_hot_encoded.set_index(['movieId','title'],inplace=True)\n",
    "#print(movies_hot_encoded.head())\n",
    "\n",
    "# 挖掘频繁项集，最小支持度为0.02\n",
    "itemsets = apriori(movies_hot_encoded,use_colnames=True, min_support=0.02)\n",
    "\n",
    "# 按照支持度从大到小进行排序\n",
    "itemsets = itemsets.sort_values(by=\"support\" , ascending=False) \n",
    "print('-'*20, '频繁项集', '-'*20)\n",
    "print(itemsets)\n",
    "# 根据频繁项集计算关联规则，设置最小提升度为2\n",
    "rules =  association_rules(itemsets, metric='lift', min_threshold=2)\n",
    "\n",
    "# 按照提升度从大到小进行排序\n",
    "rules = rules.sort_values(by=\"lift\" , ascending=False) \n",
    "#rules.to_csv('./rules.csv')\n",
    "print('-'*20, '关联规则', '-'*20)\n",
    "print(rules)\n"
   ]
  }
 ],
 "metadata": {
  "kernelspec": {
   "display_name": "NLP",
   "language": "python",
   "name": "nlp"
  },
  "language_info": {
   "codemirror_mode": {
    "name": "ipython",
    "version": 3
   },
   "file_extension": ".py",
   "mimetype": "text/x-python",
   "name": "python",
   "nbconvert_exporter": "python",
   "pygments_lexer": "ipython3",
   "version": "3.7.6"
  }
 },
 "nbformat": 4,
 "nbformat_minor": 2
}
