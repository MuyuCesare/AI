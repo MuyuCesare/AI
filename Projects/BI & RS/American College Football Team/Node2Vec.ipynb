{
 "cells": [
  {
   "cell_type": "code",
   "execution_count": null,
   "metadata": {},
   "outputs": [],
   "source": [
    "# 使用Node2Vec对space_data进行压缩\n",
    "import networkx as nx\n",
    "import pandas as pd\n",
    "import numpy as np\n",
    "import random\n",
    "from tqdm import tqdm\n",
    "from sklearn.decomposition import PCA\n",
    "from node2vec import Node2Vec\n",
    "import matplotlib.pyplot as plt\n",
    "import warnings\n",
    "warnings.filterwarnings('ignore')\n",
    "\n",
    "# 数据加载，构造图\n",
    "G = nx.read_gml('football.gml')\n",
    "print(type(G))\n",
    "#G = nx.read_gml('football.gml', relabel=True)\n",
    "print(len(G))\n",
    "\n",
    "# 初始化Node2Vec模型\n",
    "#model = DeepWalk(G, walk_length=10, num_walks=5, workers=1)\n",
    "model = Node2Vec(G, walk_length = 10, num_walks = 5, p = 0.25, q = 4, workers = 1)\n",
    "# 模型训练\n",
    "result = model.fit(window=4, iter=20)\n",
    "# 得到节点的embedding\n",
    "print(result.wv.most_similar('EastCarolina'))\n",
    "embeddings = result.wv\n",
    "print(embeddings)\n",
    "\n",
    "# 在二维空间中绘制所选节点的向量\n",
    "def plot_nodes(word_list):\n",
    "    # 每个节点的embedding为100维\n",
    "    X = []\n",
    "    for item in word_list:\n",
    "        X.append(embeddings[item])\n",
    "    #print(X.shape)\n",
    "    # 将100维向量减少到2维\n",
    "    pca = PCA(n_components=2)\n",
    "    result = pca.fit_transform(X) \n",
    "    #print(result)\n",
    "    # 绘制节点向量\n",
    "    plt.figure(figsize=(12,9))\n",
    "    # 创建一个散点图的投影\n",
    "    plt.scatter(result[:, 0], result[:, 1])\n",
    "    for i, word in enumerate(list(word_list)):\n",
    "        plt.annotate(word, xy=(result[i, 0], result[i, 1]))        \n",
    "    plt.show()\n",
    "    \n",
    "plot_nodes(result.wv.vocab)"
   ]
  }
 ],
 "metadata": {
  "kernelspec": {
   "display_name": "NLP",
   "language": "python",
   "name": "nlp"
  },
  "language_info": {
   "codemirror_mode": {
    "name": "ipython",
    "version": 3
   },
   "file_extension": ".py",
   "mimetype": "text/x-python",
   "name": "python",
   "nbconvert_exporter": "python",
   "pygments_lexer": "ipython3",
   "version": "3.7.6"
  }
 },
 "nbformat": 4,
 "nbformat_minor": 2
}
