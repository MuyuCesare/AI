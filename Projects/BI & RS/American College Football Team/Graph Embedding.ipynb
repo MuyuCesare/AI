{
 "cells": [
  {
   "cell_type": "code",
   "execution_count": null,
   "metadata": {},
   "outputs": [],
   "source": [
    "# 使用Graph Embedding中的DeepWalk对space_data进行压缩\n",
    "import networkx as nx\n",
    "import pandas as pd\n",
    "import numpy as np\n",
    "import random\n",
    "from tqdm import tqdm\n",
    "from sklearn.decomposition import PCA\n",
    "from graphembedding.ge.models import DeepWalk\n",
    "import matplotlib.pyplot as plt\n",
    "import warnings\n",
    "warnings.filterwarnings('ignore')\n",
    "\n",
    "# 数据加载，构造图\n",
    "G = nx.read_gml('football.gml')\n",
    "\n",
    "# 初始化Node2Vec模型\n",
    "model = DeepWalk(G, walk_length=10, num_walks=5, workers=1)\n",
    "# 模型训练\n",
    "model.train(window_size=4, iter=20)\n",
    "# 得到节点的embedding\n",
    "embeddings = model.get_embeddings()\n",
    "#print(embeddings)\n",
    "#print(embeddings.shape)\n",
    "#print(type(embeddings))\n",
    "#print(embeddings['lunar escape systems'])\n",
    "\n",
    "# 在二维空间中绘制所选节点的向量\n",
    "def plot_nodes(word_list):\n",
    "    # 每个节点的embedding为100维\n",
    "    X = []\n",
    "    for item in word_list:\n",
    "        X.append(embeddings[item])\n",
    "\n",
    "    #print(X.shape)\n",
    "    # 将100维向量减少到2维\n",
    "    pca = PCA(n_components=2)\n",
    "    result = pca.fit_transform(X) \n",
    "    #print(result)\n",
    "    # 绘制节点向量\n",
    "    plt.figure(figsize=(12,9))\n",
    "    # 创建一个散点图的投影\n",
    "    plt.scatter(result[:, 0], result[:, 1])\n",
    "    for i, word in enumerate(list(word_list)):\n",
    "        plt.annotate(word, xy=(result[i, 0], result[i, 1]))        \n",
    "    plt.show()\n",
    "\n",
    "plot_nodes(model.w2v_model.wv.vocab)\n"
   ]
  }
 ],
 "metadata": {
  "kernelspec": {
   "display_name": "NLP",
   "language": "python",
   "name": "nlp"
  },
  "language_info": {
   "codemirror_mode": {
    "name": "ipython",
    "version": 3
   },
   "file_extension": ".py",
   "mimetype": "text/x-python",
   "name": "python",
   "nbconvert_exporter": "python",
   "pygments_lexer": "ipython3",
   "version": "3.7.6"
  }
 },
 "nbformat": 4,
 "nbformat_minor": 2
}
