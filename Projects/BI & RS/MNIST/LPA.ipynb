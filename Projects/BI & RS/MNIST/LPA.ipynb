{
 "cells": [
  {
   "cell_type": "code",
   "execution_count": null,
   "metadata": {},
   "outputs": [],
   "source": [
    "import numpy as np\n",
    "import matplotlib.pyplot as plt\n",
    "from scipy import stats\n",
    "from sklearn import datasets\n",
    "from sklearn.semi_supervised import label_propagation\n",
    "from sklearn.metrics import classification_report,confusion_matrix\n",
    "from sklearn.linear_model import LogisticRegression\n",
    "\n",
    "# 数据加载\n",
    "digits = datasets.load_digits()\n",
    "# 第一个数字\n",
    "print(digits.data[0])\n",
    "print(digits.target[0])\n",
    "# 全部数据\n",
    "X = digits.data\n",
    "y = digits.target\n",
    "\n",
    "n_total_samples = len(digits.data) # 1797\n",
    "n_labeled_points = int(n_total_samples*0.1) #179\n",
    "\n",
    "# 创建LR分类器\n",
    "lr = LogisticRegression()\n",
    "lr.fit(X[:n_labeled_points], y[:n_labeled_points])\n",
    "# 对剩余90%数据进行预测\n",
    "predict_y=lr.predict(X[n_labeled_points:])\n",
    "true_y = y[n_labeled_points:] \n",
    "print(\"准确率\", (predict_y == true_y).sum()/(len(true_y)))\n",
    "print(\"-\"*20)\n",
    "\n",
    "# 使用半监督学习\n",
    "# 复制一份y\n",
    "y_train = np.copy(y)\n",
    "# 把未标注的数据全部标记为-1，也就是后90%数据\n",
    "y_train[n_labeled_points:] = -1 \n",
    "\n",
    "# 使用标签传播模型，进行训练\n",
    "lp_model = label_propagation.LabelSpreading(gamma=0.25, max_iter=5) \n",
    "lp_model.fit(X,y_train)\n",
    "# 得到预测的标签\n",
    "predict_y = lp_model.transduction_[n_labeled_points:] \n",
    "# 真实的标签\n",
    "true_y = y[n_labeled_points:] \n",
    "print(\"预测标签\", predict_y)\n",
    "print(\"真实标签\", true_y)\n",
    "print(\"准确率\", (predict_y == true_y).sum()/(len(true_y)))\n",
    "cm = confusion_matrix(true_y, predict_y, labels = lp_model.classes_)\n",
    "print(\"Confusion matrix\", cm)\n"
   ]
  }
 ],
 "metadata": {
  "kernelspec": {
   "display_name": "NLP",
   "language": "python",
   "name": "nlp"
  },
  "language_info": {
   "codemirror_mode": {
    "name": "ipython",
    "version": 3
   },
   "file_extension": ".py",
   "mimetype": "text/x-python",
   "name": "python",
   "nbconvert_exporter": "python",
   "pygments_lexer": "ipython3",
   "version": "3.7.6"
  }
 },
 "nbformat": 4,
 "nbformat_minor": 2
}
