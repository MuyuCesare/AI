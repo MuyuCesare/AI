{
 "cells": [
  {
   "cell_type": "code",
   "execution_count": 1,
   "metadata": {},
   "outputs": [],
   "source": [
    "import qlib"
   ]
  },
  {
   "cell_type": "code",
   "execution_count": 2,
   "metadata": {},
   "outputs": [
    {
     "data": {
      "text/plain": [
       "'0.6.1.dev'"
      ]
     },
     "execution_count": 2,
     "metadata": {},
     "output_type": "execute_result"
    }
   ],
   "source": [
    "qlib.__version__"
   ]
  },
  {
   "cell_type": "code",
   "execution_count": 5,
   "metadata": {},
   "outputs": [
    {
     "name": "stderr",
     "output_type": "stream",
     "text": [
      "[7587:MainThread](2020-12-19 01:32:45,444) INFO - qlib.Initialization - [__init__.py:42] - default_conf: client.\n",
      "[7587:MainThread](2020-12-19 01:32:45,448) WARNING - qlib.Initialization - [__init__.py:58] - redis connection failed(host=127.0.0.1 port=6379), cache will not be used!\n",
      "[7587:MainThread](2020-12-19 01:32:45,450) INFO - qlib.Initialization - [__init__.py:77] - qlib successfully initialized based on client settings.\n",
      "[7587:MainThread](2020-12-19 01:32:45,455) INFO - qlib.Initialization - [__init__.py:80] - data_path=/Users/muyu/.qlib/qlib_data/cn_data\n"
     ]
    }
   ],
   "source": [
    "import qlib\n",
    "qlib.init(provider_uri='~/.qlib/qlib_data/cn_data')"
   ]
  },
  {
   "cell_type": "code",
   "execution_count": 15,
   "metadata": {},
   "outputs": [],
   "source": [
    "time=D.calendar(start_time='2010-01-01', end_time='2017-12-31', freq='day')"
   ]
  },
  {
   "cell_type": "code",
   "execution_count": 18,
   "metadata": {},
   "outputs": [
    {
     "data": {
      "text/plain": [
       "array([Timestamp('2010-01-04 00:00:00'), Timestamp('2010-01-05 00:00:00'),\n",
       "       Timestamp('2010-01-06 00:00:00'), ...,\n",
       "       Timestamp('2017-12-27 00:00:00'), Timestamp('2017-12-28 00:00:00'),\n",
       "       Timestamp('2017-12-29 00:00:00')], dtype=object)"
      ]
     },
     "execution_count": 18,
     "metadata": {},
     "output_type": "execute_result"
    }
   ],
   "source": [
    "time"
   ]
  },
  {
   "cell_type": "code",
   "execution_count": 22,
   "metadata": {},
   "outputs": [],
   "source": [
    "from qlib.data import D"
   ]
  },
  {
   "cell_type": "code",
   "execution_count": 24,
   "metadata": {},
   "outputs": [],
   "source": [
    "from qlib.data.filter import NameDFilter\n",
    "nameDFilter = NameDFilter(name_rule_re='SH[0-9]{4}55')"
   ]
  },
  {
   "cell_type": "code",
   "execution_count": 25,
   "metadata": {},
   "outputs": [],
   "source": [
    "instruments = D.instruments(market='csi300', filter_pipe=[nameDFilter])"
   ]
  },
  {
   "cell_type": "code",
   "execution_count": 27,
   "metadata": {},
   "outputs": [
    {
     "data": {
      "text/plain": [
       "['SH600655', 'SH601155', 'SH601555']"
      ]
     },
     "execution_count": 27,
     "metadata": {},
     "output_type": "execute_result"
    }
   ],
   "source": [
    "D.list_instruments(instruments=instruments, start_time='2010-01-01', end_time='2017-12-31', as_list=True)"
   ]
  },
  {
   "cell_type": "code",
   "execution_count": 28,
   "metadata": {},
   "outputs": [],
   "source": [
    "fields = ['$close', '$volume', 'Ref($close, 1)', 'Mean($close, 3)', '$high-$low']"
   ]
  },
  {
   "cell_type": "code",
   "execution_count": 32,
   "metadata": {},
   "outputs": [],
   "source": [
    "pri=D.features(instruments, fields, start_time='2010-01-01', end_time='2011-12-31', freq='day')"
   ]
  },
  {
   "cell_type": "code",
   "execution_count": 33,
   "metadata": {},
   "outputs": [
    {
     "data": {
      "text/html": [
       "<div>\n",
       "<style scoped>\n",
       "    .dataframe tbody tr th:only-of-type {\n",
       "        vertical-align: middle;\n",
       "    }\n",
       "\n",
       "    .dataframe tbody tr th {\n",
       "        vertical-align: top;\n",
       "    }\n",
       "\n",
       "    .dataframe thead th {\n",
       "        text-align: right;\n",
       "    }\n",
       "</style>\n",
       "<table border=\"1\" class=\"dataframe\">\n",
       "  <thead>\n",
       "    <tr style=\"text-align: right;\">\n",
       "      <th></th>\n",
       "      <th></th>\n",
       "      <th>$close</th>\n",
       "      <th>$volume</th>\n",
       "      <th>Ref($close, 1)</th>\n",
       "      <th>Mean($close, 3)</th>\n",
       "      <th>$high-$low</th>\n",
       "    </tr>\n",
       "    <tr>\n",
       "      <th>instrument</th>\n",
       "      <th>datetime</th>\n",
       "      <th></th>\n",
       "      <th></th>\n",
       "      <th></th>\n",
       "      <th></th>\n",
       "      <th></th>\n",
       "    </tr>\n",
       "  </thead>\n",
       "  <tbody>\n",
       "    <tr>\n",
       "      <th rowspan=\"11\" valign=\"top\">SH600655</th>\n",
       "      <th>2010-01-04</th>\n",
       "      <td>8.934296</td>\n",
       "      <td>47799352.00</td>\n",
       "      <td>8.667867</td>\n",
       "      <td>8.691138</td>\n",
       "      <td>0.412291</td>\n",
       "    </tr>\n",
       "    <tr>\n",
       "      <th>2010-01-05</th>\n",
       "      <td>8.889880</td>\n",
       "      <td>29791234.00</td>\n",
       "      <td>8.934296</td>\n",
       "      <td>8.830681</td>\n",
       "      <td>0.203006</td>\n",
       "    </tr>\n",
       "    <tr>\n",
       "      <th>2010-01-06</th>\n",
       "      <td>8.845468</td>\n",
       "      <td>29002874.00</td>\n",
       "      <td>8.889880</td>\n",
       "      <td>8.889881</td>\n",
       "      <td>0.250560</td>\n",
       "    </tr>\n",
       "    <tr>\n",
       "      <th>2010-01-07</th>\n",
       "      <td>8.553690</td>\n",
       "      <td>38189440.00</td>\n",
       "      <td>8.845468</td>\n",
       "      <td>8.763013</td>\n",
       "      <td>0.412291</td>\n",
       "    </tr>\n",
       "    <tr>\n",
       "      <th>2010-01-08</th>\n",
       "      <td>8.645658</td>\n",
       "      <td>23417642.00</td>\n",
       "      <td>8.553690</td>\n",
       "      <td>8.681605</td>\n",
       "      <td>0.275964</td>\n",
       "    </tr>\n",
       "    <tr>\n",
       "      <th>...</th>\n",
       "      <td>...</td>\n",
       "      <td>...</td>\n",
       "      <td>...</td>\n",
       "      <td>...</td>\n",
       "      <td>...</td>\n",
       "    </tr>\n",
       "    <tr>\n",
       "      <th>2011-12-26</th>\n",
       "      <td>4.798539</td>\n",
       "      <td>5254574.50</td>\n",
       "      <td>4.787032</td>\n",
       "      <td>4.781278</td>\n",
       "      <td>0.189871</td>\n",
       "    </tr>\n",
       "    <tr>\n",
       "      <th>2011-12-27</th>\n",
       "      <td>4.775525</td>\n",
       "      <td>3482062.75</td>\n",
       "      <td>4.798539</td>\n",
       "      <td>4.787032</td>\n",
       "      <td>0.103565</td>\n",
       "    </tr>\n",
       "    <tr>\n",
       "      <th>2011-12-28</th>\n",
       "      <td>4.741002</td>\n",
       "      <td>6093737.00</td>\n",
       "      <td>4.775525</td>\n",
       "      <td>4.771688</td>\n",
       "      <td>0.138088</td>\n",
       "    </tr>\n",
       "    <tr>\n",
       "      <th>2011-12-29</th>\n",
       "      <td>4.712234</td>\n",
       "      <td>4143134.00</td>\n",
       "      <td>4.741002</td>\n",
       "      <td>4.742920</td>\n",
       "      <td>0.057536</td>\n",
       "    </tr>\n",
       "    <tr>\n",
       "      <th>2011-12-30</th>\n",
       "      <td>4.821553</td>\n",
       "      <td>8701258.00</td>\n",
       "      <td>4.712234</td>\n",
       "      <td>4.758263</td>\n",
       "      <td>0.120827</td>\n",
       "    </tr>\n",
       "  </tbody>\n",
       "</table>\n",
       "<p>473 rows × 5 columns</p>\n",
       "</div>"
      ],
      "text/plain": [
       "                         $close      $volume  Ref($close, 1)  Mean($close, 3)  \\\n",
       "instrument datetime                                                             \n",
       "SH600655   2010-01-04  8.934296  47799352.00        8.667867         8.691138   \n",
       "           2010-01-05  8.889880  29791234.00        8.934296         8.830681   \n",
       "           2010-01-06  8.845468  29002874.00        8.889880         8.889881   \n",
       "           2010-01-07  8.553690  38189440.00        8.845468         8.763013   \n",
       "           2010-01-08  8.645658  23417642.00        8.553690         8.681605   \n",
       "...                         ...          ...             ...              ...   \n",
       "           2011-12-26  4.798539   5254574.50        4.787032         4.781278   \n",
       "           2011-12-27  4.775525   3482062.75        4.798539         4.787032   \n",
       "           2011-12-28  4.741002   6093737.00        4.775525         4.771688   \n",
       "           2011-12-29  4.712234   4143134.00        4.741002         4.742920   \n",
       "           2011-12-30  4.821553   8701258.00        4.712234         4.758263   \n",
       "\n",
       "                       $high-$low  \n",
       "instrument datetime                \n",
       "SH600655   2010-01-04    0.412291  \n",
       "           2010-01-05    0.203006  \n",
       "           2010-01-06    0.250560  \n",
       "           2010-01-07    0.412291  \n",
       "           2010-01-08    0.275964  \n",
       "...                           ...  \n",
       "           2011-12-26    0.189871  \n",
       "           2011-12-27    0.103565  \n",
       "           2011-12-28    0.138088  \n",
       "           2011-12-29    0.057536  \n",
       "           2011-12-30    0.120827  \n",
       "\n",
       "[473 rows x 5 columns]"
      ]
     },
     "execution_count": 33,
     "metadata": {},
     "output_type": "execute_result"
    }
   ],
   "source": [
    "pri"
   ]
  }
 ],
 "metadata": {
  "kernelspec": {
   "display_name": "Quant",
   "language": "python",
   "name": "quant"
  },
  "language_info": {
   "codemirror_mode": {
    "name": "ipython",
    "version": 3
   },
   "file_extension": ".py",
   "mimetype": "text/x-python",
   "name": "python",
   "nbconvert_exporter": "python",
   "pygments_lexer": "ipython3",
   "version": "3.7.7"
  }
 },
 "nbformat": 4,
 "nbformat_minor": 2
}
