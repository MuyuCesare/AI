{
 "cells": [
  {
   "cell_type": "markdown",
   "metadata": {},
   "source": [
    "## Action1：不用任何数学库，如何求出sqrt(10)，并且精确到小数点后10位"
   ]
  },
  {
   "cell_type": "code",
   "execution_count": 21,
   "metadata": {},
   "outputs": [],
   "source": [
    "import math"
   ]
  },
  {
   "cell_type": "code",
   "execution_count": 22,
   "metadata": {},
   "outputs": [],
   "source": [
    "def sqrt(n,EPSION): #求出sqrt(n),n属于[1,10]\n",
    "    low, high=1, 100\n",
    "    mid = (low+high)/2\n",
    "\n",
    "    while high-low > EPSION:\n",
    "        if mid**2 > n:\n",
    "            high = mid\n",
    "        else:\n",
    "            low = mid\n",
    "        mid=(high+low)/2\n",
    "    return mid"
   ]
  },
  {
   "cell_type": "code",
   "execution_count": 23,
   "metadata": {},
   "outputs": [],
   "source": [
    "result=sqrt(10,1e-10)"
   ]
  },
  {
   "cell_type": "code",
   "execution_count": 24,
   "metadata": {},
   "outputs": [
    {
     "name": "stdout",
     "output_type": "stream",
     "text": [
      "根号10的结果为: 3.162277660176642\n"
     ]
    }
   ],
   "source": [
    "print('根号10的结果为:', result)"
   ]
  },
  {
   "cell_type": "code",
   "execution_count": 25,
   "metadata": {},
   "outputs": [
    {
     "name": "stdout",
     "output_type": "stream",
     "text": [
      "math包的根号10结果为: 3.1622776601683795\n"
     ]
    }
   ],
   "source": [
    "result2=math.sqrt(10)\n",
    "print('math包的根号10结果为:',result2)"
   ]
  },
  {
   "cell_type": "markdown",
   "metadata": {},
   "source": [
    "## Action2：汽车投诉信息采集"
   ]
  },
  {
   "cell_type": "code",
   "execution_count": 8,
   "metadata": {},
   "outputs": [],
   "source": [
    "import requests\n",
    "from fake_useragent import UserAgent\n",
    "from bs4 import BeautifulSoup\n",
    "import pandas as pd\n",
    "import json"
   ]
  },
  {
   "cell_type": "code",
   "execution_count": 9,
   "metadata": {},
   "outputs": [],
   "source": [
    "#随机生成User-Agent\n",
    "user = UserAgent()\n",
    "user_random = user.random"
   ]
  },
  {
   "cell_type": "code",
   "execution_count": 10,
   "metadata": {},
   "outputs": [],
   "source": [
    "# 根据request_url得到soup\n",
    "def get_page_content(request_url):\n",
    "    # 得到页面的内容\n",
    "    headers = {\"User-Agent\": user_random}\n",
    "    html=requests.get(request_url,headers=headers,timeout=10)\n",
    "    content = html.text\n",
    "    #print(content)\n",
    "\n",
    "    # 通过content创建BeautifulSoup对象\n",
    "    soup = BeautifulSoup(content, 'html.parser', from_encoding='utf-8')\n",
    "    return soup"
   ]
  },
  {
   "cell_type": "code",
   "execution_count": 11,
   "metadata": {},
   "outputs": [],
   "source": [
    "def get_dict_content(dict_url): #得到问题代码与中文名的对应字典\n",
    "    headers = {\"User-Agent\": user_random}\n",
    "    html=requests.get(dict_url,headers=headers,timeout=10)\n",
    "    content = html.text\n",
    "    #print(content)\n",
    "    response = content[content.find('['):len(content)]\n",
    "    index2word = json.loads(response)\n",
    "    index2word_dict={}\n",
    "    for i in index2word:\n",
    "        for j in range(len(i['items'])):\n",
    "            index2word_dict[i['value']+str(i['items'][j]['id'])]=i['name']+i['items'][j]['title']\n",
    "    return index2word_dict"
   ]
  },
  {
   "cell_type": "code",
   "execution_count": 12,
   "metadata": {},
   "outputs": [],
   "source": [
    "# 提取BeautifulSoup对象的内容生成DataFrame\n",
    "def analysis(soup):\n",
    "    # 提取需要的内容(这里提取标签<div class=\"tslb_b\">)\n",
    "    temp = soup.find('div',class_=\"tslb_b\")\n",
    "    # 创建DataFrame\n",
    "    df = pd.DataFrame(columns = ['id', 'brand', 'car_model', 'type', 'desc', 'problem', 'datetime', 'status'])\n",
    "    tr_list = temp.find_all('tr') #找到提取内容中的所有<tr>标签生成列表(每行都是一个<tr>标签)\n",
    "    for tr in tr_list[1:]:\n",
    "        temp={}\n",
    "        td_list=tr.find_all('td') #提取每个<tr>标签中的所有<td>标签\n",
    "        \n",
    "        problem=[index2word_dict[i] for i in td_list[5].text.split(',')[:-1]]\n",
    "\n",
    "        if len(td_list) > 0:\n",
    "            id, brand, car_model, type, desc, problem, datetime, status=td_list[0].text, td_list[1].text, td_list[2].text, td_list[3].text, td_list[4].text, problem, td_list[6].text, td_list[7].text\n",
    "            #print(id, brand, car_modle, type, desc, problem, datetime, status)\n",
    "            temp['id'], temp['brand'], temp['car_model'], temp['type'], temp['desc'], temp['problem'], temp['datetime'], temp['status']= id, brand, car_model, type, desc, problem, datetime, status\n",
    "            df = df.append(temp, ignore_index=True)\n",
    "    return df"
   ]
  },
  {
   "cell_type": "code",
   "execution_count": 13,
   "metadata": {},
   "outputs": [
    {
     "name": "stderr",
     "output_type": "stream",
     "text": [
      "/Users/muyu/opt/anaconda3/envs/NLP/lib/python3.7/site-packages/bs4/__init__.py:220: UserWarning: You provided Unicode markup but also provided a value for from_encoding. Your from_encoding will be ignored.\n",
      "  warnings.warn(\"You provided Unicode markup but also provided a value for from_encoding. Your from_encoding will be ignored.\")\n"
     ]
    }
   ],
   "source": [
    "#对多个页面进行解析\n",
    "page_num = 20\n",
    "base_url = 'http://www.12365auto.com/zlts/0-0-0-0-0-0_0-0-0-0-0-0-0-'\n",
    "dict_url='http://www.12365auto.com/js/cTypeInfo.js?version=20200823'\n",
    "\n",
    "index2word_dict=get_dict_content(dict_url) \n",
    "\n",
    "result = pd.DataFrame(columns = ['id', 'brand', 'car_model', 'type', 'desc', 'problem', 'datetime', 'status'])\n",
    "for i in range(page_num):\n",
    "    request_url = base_url+str(i+1)+'.shtml'\n",
    "    soup = get_page_content(request_url)\n",
    "    #print(request_url)\n",
    "    df = analysis(soup)\n",
    "    #print(df)\n",
    "    result = result.append(df)"
   ]
  },
  {
   "cell_type": "code",
   "execution_count": 14,
   "metadata": {},
   "outputs": [
    {
     "data": {
      "text/html": [
       "<div>\n",
       "<style scoped>\n",
       "    .dataframe tbody tr th:only-of-type {\n",
       "        vertical-align: middle;\n",
       "    }\n",
       "\n",
       "    .dataframe tbody tr th {\n",
       "        vertical-align: top;\n",
       "    }\n",
       "\n",
       "    .dataframe thead th {\n",
       "        text-align: right;\n",
       "    }\n",
       "</style>\n",
       "<table border=\"1\" class=\"dataframe\">\n",
       "  <thead>\n",
       "    <tr style=\"text-align: right;\">\n",
       "      <th></th>\n",
       "      <th>id</th>\n",
       "      <th>brand</th>\n",
       "      <th>car_model</th>\n",
       "      <th>type</th>\n",
       "      <th>desc</th>\n",
       "      <th>problem</th>\n",
       "      <th>datetime</th>\n",
       "      <th>status</th>\n",
       "    </tr>\n",
       "  </thead>\n",
       "  <tbody>\n",
       "    <tr>\n",
       "      <th>0</th>\n",
       "      <td>515601</td>\n",
       "      <td>东风启辰</td>\n",
       "      <td>启辰T60</td>\n",
       "      <td>2018款 1.6L CVT 智悦版(ISS) 国VI</td>\n",
       "      <td>启辰T60多次电瓶亏电无法启动希望处理</td>\n",
       "      <td>[车身附件及电器电瓶故障]</td>\n",
       "      <td>2020-08-29</td>\n",
       "      <td>信息审核</td>\n",
       "    </tr>\n",
       "    <tr>\n",
       "      <th>1</th>\n",
       "      <td>515594</td>\n",
       "      <td>长安马自达</td>\n",
       "      <td>马自达3 昂克赛拉</td>\n",
       "      <td>2020款 1.5L 自动 质美版</td>\n",
       "      <td>长安马自达昂克赛拉发动机变速箱漏油\\t</td>\n",
       "      <td>[发动机漏油, 变速器漏油, 制动系统异响]</td>\n",
       "      <td>2020-08-29</td>\n",
       "      <td>信息审核</td>\n",
       "    </tr>\n",
       "    <tr>\n",
       "      <th>2</th>\n",
       "      <td>515592</td>\n",
       "      <td>一汽-大众</td>\n",
       "      <td>探岳</td>\n",
       "      <td>2020款 330TSI 两驱 豪华智联版</td>\n",
       "      <td>一汽大众探岳油泵异响希望尽快得到处理</td>\n",
       "      <td>[车身附件及电器汽油泵故障]</td>\n",
       "      <td>2020-08-29</td>\n",
       "      <td>信息审核</td>\n",
       "    </tr>\n",
       "    <tr>\n",
       "      <th>3</th>\n",
       "      <td>515589</td>\n",
       "      <td>一汽-大众奥迪</td>\n",
       "      <td>奥迪A4L</td>\n",
       "      <td>2018款 2.0T 时尚型 30周年年型</td>\n",
       "      <td>一汽大众奥迪A4L中控屏背面漆面起泡</td>\n",
       "      <td>[车身附件及电器漆面起泡开裂]</td>\n",
       "      <td>2020-08-29</td>\n",
       "      <td>信息审核</td>\n",
       "    </tr>\n",
       "    <tr>\n",
       "      <th>4</th>\n",
       "      <td>515577</td>\n",
       "      <td>吉利汽车</td>\n",
       "      <td>缤瑞</td>\n",
       "      <td>2018款 14T CVT 缤纷版</td>\n",
       "      <td>吉利缤瑞仪表台异响 承诺洗车服务未兑现</td>\n",
       "      <td>[车身附件及电器中控台异响, 承诺不兑现服务承诺不兑现]</td>\n",
       "      <td>2020-08-29</td>\n",
       "      <td>信息审核</td>\n",
       "    </tr>\n",
       "    <tr>\n",
       "      <th>5</th>\n",
       "      <td>515559</td>\n",
       "      <td>一汽-大众</td>\n",
       "      <td>高尔夫</td>\n",
       "      <td>2014款 1.6L  手动 时尚型</td>\n",
       "      <td>一汽大众高尔夫车内异味越来越严重</td>\n",
       "      <td>[车身附件及电器车内异味]</td>\n",
       "      <td>2020-08-29</td>\n",
       "      <td>信息审核</td>\n",
       "    </tr>\n",
       "    <tr>\n",
       "      <th>6</th>\n",
       "      <td>515543</td>\n",
       "      <td>北京现代</td>\n",
       "      <td>名图</td>\n",
       "      <td>2017款 1.6T 自动 智能型 GLS</td>\n",
       "      <td>北京现代名图行驶中方向跑偏四轮定位未解决</td>\n",
       "      <td>[前后桥及悬挂系统跑偏]</td>\n",
       "      <td>2020-08-29</td>\n",
       "      <td>信息审核</td>\n",
       "    </tr>\n",
       "    <tr>\n",
       "      <th>7</th>\n",
       "      <td>515538</td>\n",
       "      <td>众泰汽车</td>\n",
       "      <td>云100</td>\n",
       "      <td>2014款 云100 舒适型</td>\n",
       "      <td>众泰云100动力电池故障要求尽快解决</td>\n",
       "      <td>[车身附件及电器动力电池故障]</td>\n",
       "      <td>2020-08-29</td>\n",
       "      <td>信息审核</td>\n",
       "    </tr>\n",
       "    <tr>\n",
       "      <th>8</th>\n",
       "      <td>515537</td>\n",
       "      <td>东风日产</td>\n",
       "      <td>逍客</td>\n",
       "      <td>2016款 2.0L CVT 精英版</td>\n",
       "      <td>东风日产逍客变速箱阀体损坏不予更换</td>\n",
       "      <td>[变速器故障灯亮, 变速器滑阀箱故障]</td>\n",
       "      <td>2020-08-29</td>\n",
       "      <td>信息审核</td>\n",
       "    </tr>\n",
       "    <tr>\n",
       "      <th>9</th>\n",
       "      <td>515535</td>\n",
       "      <td>上汽大众</td>\n",
       "      <td>朗逸</td>\n",
       "      <td>2013款 1.6L 自动 舒适版 改款</td>\n",
       "      <td>上汽大众朗逸发动机水泵处漏油要求解决</td>\n",
       "      <td>[发动机漏油]</td>\n",
       "      <td>2020-08-29</td>\n",
       "      <td>信息审核</td>\n",
       "    </tr>\n",
       "  </tbody>\n",
       "</table>\n",
       "</div>"
      ],
      "text/plain": [
       "       id    brand  car_model                         type  \\\n",
       "0  515601     东风启辰      启辰T60  2018款 1.6L CVT 智悦版(ISS) 国VI   \n",
       "1  515594    长安马自达  马自达3 昂克赛拉            2020款 1.5L 自动 质美版   \n",
       "2  515592    一汽-大众         探岳        2020款 330TSI 两驱 豪华智联版   \n",
       "3  515589  一汽-大众奥迪      奥迪A4L        2018款 2.0T 时尚型 30周年年型   \n",
       "4  515577     吉利汽车         缤瑞            2018款 14T CVT 缤纷版   \n",
       "5  515559    一汽-大众        高尔夫           2014款 1.6L  手动 时尚型   \n",
       "6  515543     北京现代         名图        2017款 1.6T 自动 智能型 GLS   \n",
       "7  515538     众泰汽车       云100               2014款 云100 舒适型   \n",
       "8  515537     东风日产         逍客           2016款 2.0L CVT 精英版   \n",
       "9  515535     上汽大众         朗逸         2013款 1.6L 自动 舒适版 改款   \n",
       "\n",
       "                   desc                       problem    datetime status  \n",
       "0   启辰T60多次电瓶亏电无法启动希望处理                 [车身附件及电器电瓶故障]  2020-08-29   信息审核  \n",
       "1   长安马自达昂克赛拉发动机变速箱漏油\\t        [发动机漏油, 变速器漏油, 制动系统异响]  2020-08-29   信息审核  \n",
       "2    一汽大众探岳油泵异响希望尽快得到处理                [车身附件及电器汽油泵故障]  2020-08-29   信息审核  \n",
       "3    一汽大众奥迪A4L中控屏背面漆面起泡               [车身附件及电器漆面起泡开裂]  2020-08-29   信息审核  \n",
       "4   吉利缤瑞仪表台异响 承诺洗车服务未兑现  [车身附件及电器中控台异响, 承诺不兑现服务承诺不兑现]  2020-08-29   信息审核  \n",
       "5      一汽大众高尔夫车内异味越来越严重                 [车身附件及电器车内异味]  2020-08-29   信息审核  \n",
       "6  北京现代名图行驶中方向跑偏四轮定位未解决                  [前后桥及悬挂系统跑偏]  2020-08-29   信息审核  \n",
       "7    众泰云100动力电池故障要求尽快解决               [车身附件及电器动力电池故障]  2020-08-29   信息审核  \n",
       "8     东风日产逍客变速箱阀体损坏不予更换           [变速器故障灯亮, 变速器滑阀箱故障]  2020-08-29   信息审核  \n",
       "9    上汽大众朗逸发动机水泵处漏油要求解决                       [发动机漏油]  2020-08-29   信息审核  "
      ]
     },
     "execution_count": 14,
     "metadata": {},
     "output_type": "execute_result"
    }
   ],
   "source": [
    "result.head(10)"
   ]
  }
 ],
 "metadata": {
  "kernelspec": {
   "display_name": "NLP",
   "language": "python",
   "name": "nlp"
  },
  "language_info": {
   "codemirror_mode": {
    "name": "ipython",
    "version": 3
   },
   "file_extension": ".py",
   "mimetype": "text/x-python",
   "name": "python",
   "nbconvert_exporter": "python",
   "pygments_lexer": "ipython3",
   "version": "3.7.6"
  }
 },
 "nbformat": 4,
 "nbformat_minor": 2
}
